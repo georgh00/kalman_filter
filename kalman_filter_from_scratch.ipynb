{
 "cells": [
  {
   "cell_type": "code",
   "execution_count": 1312,
   "id": "a764cdf1",
   "metadata": {},
   "outputs": [],
   "source": [
    "import numpy as np\n",
    "import matplotlib.pyplot as plt"
   ]
  },
  {
   "cell_type": "markdown",
   "id": "51e906b5",
   "metadata": {},
   "source": [
    "### In this notebook, I built a Kalman filter from scratch. I want to estimate the position, velocity and acceleration of a Rocket moving in 1-dimensional space with a noisy (gaussian noise) GPS measurement of its position. The acceleration of the Rocket is constant."
   ]
  },
  {
   "cell_type": "markdown",
   "id": "6a512787",
   "metadata": {},
   "source": [
    "# Simulation - Simulate a Rocket "
   ]
  },
  {
   "cell_type": "code",
   "execution_count": 1313,
   "id": "7bc424c0",
   "metadata": {},
   "outputs": [],
   "source": [
    "acceleration = np.random.randint(-100, 100)\n",
    "initial_v = np.random.randint(-100, 100)\n",
    "initial_x = np.random.randint(-100, 100)\n",
    "\n",
    "def rocket_movement(t):\n",
    "    s = initial_x + initial_v * t + acceleration*(t**2)/2\n",
    "    v = initial_v + acceleration*t\n",
    "    a = acceleration\n",
    "    return s, v, a\n",
    "    \n",
    "def actual_rocket_state(n):\n",
    "    s, v, a = rocket_movement(n*h)\n",
    "    return np.matrix([[s], [v], [a]])"
   ]
  },
  {
   "cell_type": "markdown",
   "id": "9cf36263",
   "metadata": {},
   "source": [
    "# Kalman Filter"
   ]
  },
  {
   "cell_type": "code",
   "execution_count": 1314,
   "id": "dcbb6140",
   "metadata": {},
   "outputs": [],
   "source": [
    "h = 0.5 # duration of one discrete timestep\n",
    "duration = 100\n",
    "sigma = 10 # standard deviation of mesurement (gaussian distribution)"
   ]
  },
  {
   "cell_type": "markdown",
   "id": "d691a0d8",
   "metadata": {},
   "source": [
    "##### The state vector $x = (s, v, a)$ has the entries position, velocity and acceleration. It is important that x is the state vector of the system, and not the position. \n",
    "##### Differential equation that describes the dynamics in the continuous case: $\\dot{x} = A_{cont}  x$, where $A_{cont} =  \\begin{pmatrix}\n",
    " 0& 1 & 0\\\\ \n",
    " 0& 0 & 1\\\\ \n",
    " 0&0  & 0\n",
    "\\end{pmatrix}$\n",
    "##### solution: $x(t)=e^{A_{cont}t}x_0$ \n",
    "##### for one discrete timestep h: $x_n = e^{A_{cont}  h} x_{n-1}$ \n",
    "##### Find matrix representation using series expansion: $ A := e^{A_{cont}  h} = 1 + A_{cont} h + \\frac{(A_{cont}h)^2}{2!}+ \\dots$= $ \\begin{pmatrix}\n",
    " 1& h & \\frac{h^2}{2}\\\\ \n",
    " 0& 1 & h\\\\ \n",
    " 0&0  & 1\n",
    "\\end{pmatrix}$"
   ]
  },
  {
   "cell_type": "code",
   "execution_count": 1315,
   "id": "61c6a2db",
   "metadata": {},
   "outputs": [],
   "source": [
    "# Define A\n",
    "A = np.array([[1, h,h**2 / 2],[0, 1, h],[0, 0, 1]])"
   ]
  },
  {
   "cell_type": "markdown",
   "id": "d27d9927",
   "metadata": {},
   "source": [
    "##### The Dynamics equations are:\n",
    "##### $\n",
    " \\mathbf{x}_n=A_{n-1} \\mathbf{x}_{n-1} $,\n",
    " where A is the state dynamics matrix\n",
    " \n",
    " \n",
    "$ \\mathbf{y}_n=C_n \\mathbf{x}_n+\\mathbf{v}_n$,\n",
    "where $y_n$ is the measurement output, $C_n$ is the measurement matrix, and $v_n$ is the measurement noise. "
   ]
  },
  {
   "cell_type": "code",
   "execution_count": 1316,
   "id": "60f7ed2a",
   "metadata": {},
   "outputs": [],
   "source": [
    "# Define C\n",
    "# We measure the position of the rocket using GPS. Thus, \n",
    "C = np.matrix([1, 0, 0]) # multiplied to a state vector, this gives the position only."
   ]
  },
  {
   "cell_type": "code",
   "execution_count": 1317,
   "id": "c8948da9",
   "metadata": {},
   "outputs": [],
   "source": [
    "x_0 = np.array([[0],[0],[0]]) # Initial guess of the state"
   ]
  },
  {
   "cell_type": "code",
   "execution_count": 1318,
   "id": "18fc0641",
   "metadata": {},
   "outputs": [],
   "source": [
    "# Initial covariance matrix. It is the identity matrix\n",
    "large = 1 # large is a large number, in this way P_0 describes maximum uncertainty about the state.\n",
    "P_0 = np.matrix(np.eye(3)) * large"
   ]
  },
  {
   "cell_type": "code",
   "execution_count": 1319,
   "id": "6a47a0d4",
   "metadata": {},
   "outputs": [],
   "source": [
    "R = np.array([sigma**2]) # covariance matrix of noise"
   ]
  },
  {
   "cell_type": "markdown",
   "id": "b9d1497e",
   "metadata": {},
   "source": [
    "## First step, propagate x and P to priori:"
   ]
  },
  {
   "cell_type": "code",
   "execution_count": 1320,
   "id": "1a964457",
   "metadata": {},
   "outputs": [],
   "source": [
    "def propagate_dynamics(x_posteriori_n_minus_1):\n",
    "    x_priori_n = A @ x_posteriori_n_minus_1\n",
    "    return x_priori_n\n",
    "\n",
    "def propagate_P(P_posteriori_n_minus_1):\n",
    "    P_priori_n = A @ P_posteriori_n_minus_1 @ np.transpose(A)\n",
    "    return P_priori_n"
   ]
  },
  {
   "cell_type": "markdown",
   "id": "6ec92003",
   "metadata": {},
   "source": [
    "## Second step, obtain measurement data y_n and compute new priori x and P:"
   ]
  },
  {
   "cell_type": "code",
   "execution_count": 1321,
   "id": "dbf53f14",
   "metadata": {},
   "outputs": [],
   "source": [
    "def calculate_K(P_priori_n): # auxiliary function, K is the Kalman-filter-gain-matrix\n",
    "    K_n = P_priori_n @ np.transpose(C) @ np.linalg.inv((R + C @ P_priori_n @ np.transpose(C)))\n",
    "    return K_n\n",
    "\n",
    "def update_x(x_priori_n, P_priori_n, y_n):\n",
    "    K_n = calculate_K(P_priori_n)\n",
    "    x_posteriori_n = x_priori_n + K_n @ (y_n - C @ x_priori_n)\n",
    "    #print(x_posteriori_n)\n",
    "    return x_posteriori_n\n",
    "\n",
    "def update_P(P_priori_n):\n",
    "    K_n = calculate_K(P_priori_n)\n",
    "    P_posteriori_n = (np.eye(3) - K_n @ C) @ P_priori_n\n",
    "    return P_posteriori_n"
   ]
  },
  {
   "cell_type": "markdown",
   "id": "70a27a39",
   "metadata": {},
   "source": [
    "# Execution"
   ]
  },
  {
   "cell_type": "code",
   "execution_count": 1322,
   "id": "b0ec9706",
   "metadata": {},
   "outputs": [],
   "source": [
    "def Kalman(y_n, x_posteriori_n_minus_1, P_posteriori_n_minus_1):\n",
    "    x_priori_n = propagate_dynamics(x_posteriori_n_minus_1)\n",
    "    P_priori_n = propagate_P(P_posteriori_n_minus_1)\n",
    "    x_posteriori_n = update_x(x_priori_n, P_priori_n, y_n)\n",
    "    P_posteriori_n = update_P(P_priori_n)\n",
    "    return x_posteriori_n, P_posteriori_n\n",
    "\n",
    "estimated_state = []\n",
    "actual_state = []\n",
    "for n in range (0, int(duration/h)):\n",
    "    noise = np.random.normal(0, sigma)\n",
    "    y_n = C @ actual_rocket_state(n) + noise\n",
    "    actual_state.append(actual_rocket_state(n))\n",
    "    if n==0:\n",
    "        x_posteriori_n, P_posteriori_n = Kalman(y_n, x_0, P_0)\n",
    "        estimated_state.append(x_posteriori_n)\n",
    "    else:\n",
    "        x_priori_n_minus_1, P_priori_n_minus_1 = x_posteriori_n, P_posteriori_n #Shift n by one to get to the next step\n",
    "        x_posteriori_n, P_posteriori_n = Kalman(y_n, x_priori_n_minus_1, P_priori_n_minus_1)\n",
    "        estimated_state.append(x_posteriori_n)\n",
    "        #print(x_posteriori_n)\n",
    "      \n",
    "        "
   ]
  },
  {
   "cell_type": "code",
   "execution_count": 1323,
   "id": "73a2c690",
   "metadata": {},
   "outputs": [
    {
     "data": {
      "image/png": "[encoded data removed]",
      "text/plain": [
       "<Figure size 432x288 with 1 Axes>"
      ]
     },
     "metadata": {
      "needs_background": "light"
     },
     "output_type": "display_data"
    }
   ],
   "source": [
    "actual_state = np.array(actual_state) \n",
    "estimated_state = np.array(estimated_state)\n",
    "\n",
    "time = time_array = np.linspace(0, duration, int(duration / h))\n",
    "actual_position = actual_state[:, 0, 0]\n",
    "estimated_position = estimated_state[:, 0, 0]\n",
    "\n",
    "labels = ['Data Set 1', 'Data Set 2']\n",
    "\n",
    "plt.scatter(time, actual_position)\n",
    "plt.scatter(time, estimated_position)\n",
    "\n",
    "plt.legend(labels)\n",
    "plt.show()"
   ]
  },
  {
   "cell_type": "code",
   "execution_count": 1324,
   "id": "f5010ce8",
   "metadata": {},
   "outputs": [
    {
     "data": {
      "image/png": "[encoded data removed]",
      "text/plain": [
       "<Figure size 432x288 with 1 Axes>"
      ]
     },
     "metadata": {
      "needs_background": "light"
     },
     "output_type": "display_data"
    }
   ],
   "source": [
    "actual_state = np.array(actual_state) \n",
    "estimated_state = np.array(estimated_state)\n",
    "\n",
    "time = time_array = np.linspace(0, duration, int(duration / h))\n",
    "actual_velocity = actual_state[:, 1, 0]\n",
    "estimated_velocity = estimated_state[:, 1, 0]\n",
    "\n",
    "labels = ['Data Set 1', 'Data Set 2']\n",
    "\n",
    "plt.scatter(time, actual_velocity)\n",
    "plt.scatter(time, estimated_velocity)\n",
    "\n",
    "plt.legend(labels)\n",
    "plt.show()"
   ]
  },
  {
   "cell_type": "code",
   "execution_count": 1325,
   "id": "221e92ec",
   "metadata": {},
   "outputs": [
    {
     "data": {
      "image/png": "[encoded data removed]",
      "text/plain": [
       "<Figure size 432x288 with 1 Axes>"
      ]
     },
     "metadata": {
      "needs_background": "light"
     },
     "output_type": "display_data"
    }
   ],
   "source": [
    "actual_state = np.array(actual_state) \n",
    "estimated_state = np.array(estimated_state)\n",
    "\n",
    "time = time_array = np.linspace(0, duration, int(duration / h))\n",
    "actual_acceleration = actual_state[:, 2, 0]\n",
    "estimated_acceleration = estimated_state[:, 2, 0]\n",
    "\n",
    "labels = ['Data Set 1', 'Data Set 2']\n",
    "\n",
    "plt.scatter(time, actual_acceleration)\n",
    "plt.scatter(time, estimated_acceleration)\n",
    "\n",
    "plt.legend(labels)\n",
    "plt.show()"
   ]
  }
 ],
 "metadata": {
  "kernelspec": {
   "display_name": "py38",
   "language": "python",
   "name": "py38"
  },
  "language_info": {
   "codemirror_mode": {
    "name": "ipython",
    "version": 3
   },
   "file_extension": ".py",
   "mimetype": "text/x-python",
   "name": "python",
   "nbconvert_exporter": "python",
   "pygments_lexer": "ipython3",
   "version": "3.8.12"
  }
 },
 "nbformat": 4,
 "nbformat_minor": 5
}
